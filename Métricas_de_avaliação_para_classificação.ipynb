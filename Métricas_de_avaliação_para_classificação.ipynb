{
  "nbformat": 4,
  "nbformat_minor": 0,
  "metadata": {
    "colab": {
      "name": "Métricas de avaliação para classificação.ipynb",
      "provenance": [],
      "collapsed_sections": [],
      "authorship_tag": "ABX9TyPOkbkEzqHk11FuvCaKn50A"
    },
    "kernelspec": {
      "name": "python3",
      "display_name": "Python 3"
    }
  },
  "cells": [
    {
      "cell_type": "code",
      "metadata": {
        "id": "qbWW67_HikQX"
      },
      "source": [
        "import pandas as pd\n",
        "import numpy as np"
      ],
      "execution_count": null,
      "outputs": []
    },
    {
      "cell_type": "code",
      "metadata": {
        "id": "Mfss1v1VjNaB"
      },
      "source": [
        "np.random.seed(50)"
      ],
      "execution_count": null,
      "outputs": []
    },
    {
      "cell_type": "code",
      "metadata": {
        "id": "SqTmNU3UjQsH"
      },
      "source": [
        "p_binary = np.random.uniform(size=10)\n",
        "p_multi = np.random.uniform(size=(10,3)) #3 classes com 10 valores\n",
        "\n",
        "y_binary = (np.random.uniform(size=10) > 0.5).astype(int)\n",
        "y_binary\n",
        "y_multi = np.random.uniform(size=(10,3)).argmax(axis=1)#coluna onde está o maior valor. Sò para ter uma classe\n",
        "\n",
        "p_binary_threshold = (p_bynary > 0.4).astype(int)\n",
        "p_multi_argmax = p_multi.argmax(axis=1)\n"
      ],
      "execution_count": null,
      "outputs": []
    },
    {
      "cell_type": "code",
      "metadata": {
        "id": "ysbVLbtPj7TI",
        "colab": {
          "base_uri": "https://localhost:8080/",
          "height": 34
        },
        "outputId": "bc647c0b-6a66-4261-aa0d-0e6ec077f2df"
      },
      "source": [
        "y_multi"
      ],
      "execution_count": null,
      "outputs": [
        {
          "output_type": "execute_result",
          "data": {
            "text/plain": [
              "array([1, 2, 0, 0, 1, 2, 1, 1, 1, 1])"
            ]
          },
          "metadata": {
            "tags": []
          },
          "execution_count": 6
        }
      ]
    },
    {
      "cell_type": "markdown",
      "metadata": {
        "id": "qE4sq-4clRN7"
      },
      "source": [
        "### ACURÁCIA\n",
        "\n",
        "*não usar oficialmente, só para testar\n",
        "\n",
        "*inadequada para dados desiquilibrados\n",
        "\n",
        "*não diz muita coisa, apenas o quanto acerta\n",
        "\n"
      ]
    },
    {
      "cell_type": "code",
      "metadata": {
        "id": "Ozh64XTXkjaG"
      },
      "source": [
        "from sklearn.metrics import accuracy_score"
      ],
      "execution_count": null,
      "outputs": []
    },
    {
      "cell_type": "code",
      "metadata": {
        "id": "ik6EuG3Xl1LN",
        "colab": {
          "base_uri": "https://localhost:8080/",
          "height": 51
        },
        "outputId": "bdcc90a3-f4a0-4f5d-e558-c534306450ca"
      },
      "source": [
        "print(\"PREVISÃO = {}\\nY = {}\".format(p_binary_threshold, y_binary))"
      ],
      "execution_count": null,
      "outputs": [
        {
          "output_type": "stream",
          "text": [
            "P = [1 1 1 1 1 0 1 1 1 0]\n",
            "Y = [0 1 0 1 0 0 1 0 1 1]\n"
          ],
          "name": "stdout"
        }
      ]
    },
    {
      "cell_type": "code",
      "metadata": {
        "id": "tHKy2T7fmJ6g",
        "colab": {
          "base_uri": "https://localhost:8080/",
          "height": 34
        },
        "outputId": "2be5e15b-3b97-49ad-da4d-71675a5be66a"
      },
      "source": [
        "accuracy_score(y_binary, p_binary_threshold)"
      ],
      "execution_count": null,
      "outputs": [
        {
          "output_type": "execute_result",
          "data": {
            "text/plain": [
              "0.5"
            ]
          },
          "metadata": {
            "tags": []
          },
          "execution_count": 18
        }
      ]
    },
    {
      "cell_type": "markdown",
      "metadata": {
        "id": "u21Sc_mgmk74"
      },
      "source": [
        "## PRECISION\n",
        "\n",
        "*dos casos previsto como positivos, quantos realmentes são positivos\n",
        "\n",
        "*Ex: quantas pessoas realmente irão comprar"
      ]
    },
    {
      "cell_type": "code",
      "metadata": {
        "id": "5ilFOd5tmecC"
      },
      "source": [
        "from sklearn.metrics import precision_score"
      ],
      "execution_count": null,
      "outputs": []
    },
    {
      "cell_type": "code",
      "metadata": {
        "id": "PsCBMJOrm7HM",
        "colab": {
          "base_uri": "https://localhost:8080/",
          "height": 68
        },
        "outputId": "e0d63515-db79-4004-a99b-6ba7fabe1c51"
      },
      "source": [
        "print(\"P = {}\\nY = {}\".format(p_binary_threshold, y_binary))\n",
        "precision_score(y_binary, p_binary_threshold)"
      ],
      "execution_count": null,
      "outputs": [
        {
          "output_type": "stream",
          "text": [
            "P = [1 1 1 1 1 0 1 1 1 0]\n",
            "Y = [0 1 0 1 0 0 1 0 1 1]\n"
          ],
          "name": "stdout"
        },
        {
          "output_type": "execute_result",
          "data": {
            "text/plain": [
              "0.5"
            ]
          },
          "metadata": {
            "tags": []
          },
          "execution_count": 22
        }
      ]
    },
    {
      "cell_type": "markdown",
      "metadata": {
        "id": "Gfy_06U9nVi9"
      },
      "source": [
        "só pega os casos acertados. Exemplo: se tem 3 casos que foi previsto 1, quantos acertou, foi 2. Logo, foi 66%"
      ]
    },
    {
      "cell_type": "markdown",
      "metadata": {
        "id": "r7bq_xnvnp8E"
      },
      "source": [
        "# RECALL\n",
        "*É MAIS IMPORTANTE DETECTAR TODOS OS POSITIVOS DO QUE ACERTAR QUEM REALMENTE É POSITIVO? USA ELE -> MAIS PROCESSAMENTO\n",
        "\n",
        "*dos que eram realmente positivos, para uma classe, quantas eu detectei como positivas?\n",
        "\n",
        "*taxa de detecção\n",
        "\n",
        "Ex: se eu quero que 10  pessoas vão para uma live entre 1000 pessoas, ela vai detectar. É mais importante detectar os positivos do que acertar quem são os positivos"
      ]
    },
    {
      "cell_type": "code",
      "metadata": {
        "id": "eUG6D4jUnLzP",
        "colab": {
          "base_uri": "https://localhost:8080/",
          "height": 68
        },
        "outputId": "7bc092b5-7ee3-4f24-a428-b600c8ba23a9"
      },
      "source": [
        "from sklearn.metrics import recall_score\n",
        "print(\"PREVISÃO = {}\\nY = {}\".format(p_binary_threshold, y_binary))\n",
        "recall_score(y_binary, p_binary_threshold)"
      ],
      "execution_count": null,
      "outputs": [
        {
          "output_type": "stream",
          "text": [
            "PREVISÃO = [1 1 1 1 1 0 1 1 1 0]\n",
            "Y = [0 1 0 1 0 0 1 0 1 1]\n"
          ],
          "name": "stdout"
        },
        {
          "output_type": "execute_result",
          "data": {
            "text/plain": [
              "0.8"
            ]
          },
          "metadata": {
            "tags": []
          },
          "execution_count": 23
        }
      ]
    },
    {
      "cell_type": "code",
      "metadata": {
        "id": "DdYpHdtGoU5i"
      },
      "source": [
        "#tem 5 positivos(y), dos quais 4 acertou"
      ],
      "execution_count": null,
      "outputs": []
    },
    {
      "cell_type": "markdown",
      "metadata": {
        "id": "ksIk3i0H6Gap"
      },
      "source": [
        "# F1 SCORE\n",
        "\n",
        "-média harmônica entre os precision e recall:\n",
        "\n",
        "( 2 *precision * recall) / (precision + recal)\n",
        "\n",
        "- quanto não tem preferência entre precision e recall\n",
        "\n",
        "-Trabalha bem quando os dados tem classe desproporcionais (grande número de dados negativos reais)\n",
        "\n",
        "-indica a qualidade geral do seu model\n",
        "\n"
      ]
    },
    {
      "cell_type": "code",
      "metadata": {
        "id": "xV_WtJkJ6j9u",
        "colab": {
          "base_uri": "https://localhost:8080/",
          "height": 68
        },
        "outputId": "64ece06f-d4cb-40b2-c8d8-94cf4a9d6d8c"
      },
      "source": [
        "from sklearn.metrics import f1_score\n",
        "print(\"PREVISÃO = {}\\nY = {}\".format(p_binary_threshold, y_binary))\n",
        "f1_score(y_binary, p_binary_threshold)"
      ],
      "execution_count": null,
      "outputs": [
        {
          "output_type": "stream",
          "text": [
            "PREVISÃO = [1 1 1 1 1 0 1 1 1 0]\n",
            "Y = [0 1 0 1 0 0 1 0 1 1]\n"
          ],
          "name": "stdout"
        },
        {
          "output_type": "execute_result",
          "data": {
            "text/plain": [
              "0.6153846153846154"
            ]
          },
          "metadata": {
            "tags": []
          },
          "execution_count": 24
        }
      ]
    },
    {
      "cell_type": "markdown",
      "metadata": {
        "id": "u_B1B6cc7nqI"
      },
      "source": [
        "# KAPPA\n",
        "\n",
        "-Se a concordância foi por aleatoriedade\n",
        "\n",
        "-Mede a cordância medida pela aleatoriedade de acertar o valor\n",
        "\n",
        "-A estatística kappa, que é um número entre -1 e 1. O valor máximo significa concordância completa; zero ou menos significa acordo de chance."
      ]
    },
    {
      "cell_type": "code",
      "metadata": {
        "id": "dTZPgblJ6ts2",
        "colab": {
          "base_uri": "https://localhost:8080/",
          "height": 68
        },
        "outputId": "b60eff23-0e14-434b-c294-8f77e92b5017"
      },
      "source": [
        "from sklearn.metrics import cohen_kappa_score\n",
        "print(\"PREVISÃO = {}\\nY = {}\".format(p_binary_threshold, y_binary))\n",
        "cohen_kappa_score(y_binary, p_binary_threshold)"
      ],
      "execution_count": null,
      "outputs": [
        {
          "output_type": "stream",
          "text": [
            "PREVISÃO = [1 1 1 1 1 0 1 1 1 0]\n",
            "Y = [0 1 0 1 0 0 1 0 1 1]\n"
          ],
          "name": "stdout"
        },
        {
          "output_type": "execute_result",
          "data": {
            "text/plain": [
              "0.0"
            ]
          },
          "metadata": {
            "tags": []
          },
          "execution_count": 25
        }
      ]
    },
    {
      "cell_type": "markdown",
      "metadata": {
        "id": "UAUYSoI29QZ6"
      },
      "source": [
        "# AVALIA A PROBABILIDADE DIRETAMENTE SEM PONTO DE CORTE\n",
        "*mol.predict_proba"
      ]
    },
    {
      "cell_type": "markdown",
      "metadata": {
        "id": "Nb5fvp-u9ZvA"
      },
      "source": [
        "# Log LOss\n",
        "\n",
        "Proporção que o evento ocorre na vida real\n",
        "\n",
        "Ex:\n",
        "se o time A jogar contra o time B, e tiver 50% de ganhar, se jogarem 10 vezes, 5 vezes o time A vai ganhar\n",
        "-A log loss estará na mínima quando o modelo prever 0.5 (50% de ganhar)"
      ]
    },
    {
      "cell_type": "code",
      "metadata": {
        "id": "_7tNmSXe7_jO",
        "colab": {
          "base_uri": "https://localhost:8080/",
          "height": 68
        },
        "outputId": "d5baef73-880b-4334-fa02-cdc51cde79a5"
      },
      "source": [
        "from sklearn.metrics import log_loss\n",
        "print(\"PREVISÃO = {}\\nY = {}\".format(p_binary, y_binary))\n",
        "log_loss(y_binary, p_binary)"
      ],
      "execution_count": null,
      "outputs": [
        {
          "output_type": "stream",
          "text": [
            "PREVISÃO = [1 1 1 1 1 0 1 1 1 0]\n",
            "Y = [1 0 1 1 1 1 0 0 0 0]\n"
          ],
          "name": "stdout"
        },
        {
          "output_type": "execute_result",
          "data": {
            "text/plain": [
              "0.8072972567004862"
            ]
          },
          "metadata": {
            "tags": []
          },
          "execution_count": 49
        }
      ]
    },
    {
      "cell_type": "code",
      "metadata": {
        "id": "MNV2ttA2-Pxn"
      },
      "source": [
        "#assim, quanto maior for o valor dos 50% de ganhar, pior está o modelo\n",
        "#QUANTO MENOR, MELHOR\n",
        "#USA PARA QUANDO PRECISAR PROBABILIDADES BEM CALIBRADAS. eX: BOLSA DE VALORES"
      ],
      "execution_count": null,
      "outputs": []
    },
    {
      "cell_type": "markdown",
      "metadata": {
        "id": "RBXzFDeWBoc2"
      },
      "source": [
        "#ROC AUC\n",
        "\n",
        "-Qual a chance de um exemplo positivo ter uma previsão maior do que um positivo\n",
        "\n",
        "-AUC é bom para problemas de classificação com desequilíbrio de classe\n",
        "\n",
        "-é bom quando garantir que positivos sejam rankeados acima dos negativos é mais importante do que prever a probabilidade real do evento\n",
        "\n",
        "(quando os positivos são mais imporatntes que a probabilidade real)\n",
        "\n",
        "Ex: em vez de saber exatamente quando um email é spam, ordena os primeiros com a maior probabilidade de ser spam."
      ]
    },
    {
      "cell_type": "code",
      "metadata": {
        "id": "1pKGOgs-Bnyi",
        "colab": {
          "base_uri": "https://localhost:8080/",
          "height": 85
        },
        "outputId": "91d83f59-7c10-4824-cfc1-9acce6c3b5b3"
      },
      "source": [
        "from sklearn.metrics import roc_auc_score\n",
        "print(\"PREVISÃO = {}\\nY = {}\".format(p_binary, y_binary))\n",
        "roc_auc_score(y_binary, p_binary)"
      ],
      "execution_count": null,
      "outputs": [
        {
          "output_type": "stream",
          "text": [
            "PREVISÃO = [0.98247623 0.52243872 0.53917851 0.94702819 0.15318816 0.2801585\n",
            " 0.62494318 0.30397067 0.83573299 0.29270279]\n",
            "Y = [1 0 1 1 1 1 0 0 0 0]\n"
          ],
          "name": "stdout"
        },
        {
          "output_type": "execute_result",
          "data": {
            "text/plain": [
              "0.52"
            ]
          },
          "metadata": {
            "tags": []
          },
          "execution_count": 50
        }
      ]
    },
    {
      "cell_type": "code",
      "metadata": {
        "id": "kHlSsNJoCvbV"
      },
      "source": [
        "#valor abaixo de 0.5, quer dizer que o modelo está pior do que fosse aleatório\n",
        "#É PRECISO QUE O AUC ESJA MAIOR QUE 0.5\n"
      ],
      "execution_count": null,
      "outputs": []
    },
    {
      "cell_type": "code",
      "metadata": {
        "id": "WGlIslPXD4Qz",
        "colab": {
          "base_uri": "https://localhost:8080/",
          "height": 34
        },
        "outputId": "65d9145b-511c-41af-e410-1ab3e4b04af5"
      },
      "source": [
        "#PERCEBE-SE QUE DÁ PRATICAMENTE O MESMO VALOR DO ROC AUC, OU SEJA, ESSA É UMA FORMA DE FAZER\n",
        "sum_over = 0\n",
        "total = 10000\n",
        "for i in range(total):\n",
        "  caixa_de_positivos = p_binary[y_binary == 1] #pega os elementos do p_binary quando o valor do y_binary for 1, no mesmo índice\n",
        "  caixa_de_negativos = p_binary[y_binary == 0]\n",
        "\n",
        "  positivo = np.random.choice(caixa_de_positivos, size = 1, replace=False)\n",
        "  negativo = np.random.choice(caixa_de_negativos, size = 1, replace=False)\n",
        "\n",
        "  if positivo > negativo:\n",
        "    sum_over +=1\n",
        "sum_over/total\n",
        "\n",
        "\n"
      ],
      "execution_count": null,
      "outputs": [
        {
          "output_type": "execute_result",
          "data": {
            "text/plain": [
              "0.5257"
            ]
          },
          "metadata": {
            "tags": []
          },
          "execution_count": 38
        }
      ]
    },
    {
      "cell_type": "code",
      "metadata": {
        "id": "2qk-aCI3EHfm",
        "colab": {
          "base_uri": "https://localhost:8080/",
          "height": 51
        },
        "outputId": "8436997f-6dfc-4993-d9c8-d9dc01426525"
      },
      "source": [
        "p_binary\n"
      ],
      "execution_count": null,
      "outputs": [
        {
          "output_type": "execute_result",
          "data": {
            "text/plain": [
              "array([0.98247623, 0.52243872, 0.53917851, 0.94702819, 0.15318816,\n",
              "       0.2801585 , 0.62494318, 0.30397067, 0.83573299, 0.29270279])"
            ]
          },
          "metadata": {
            "tags": []
          },
          "execution_count": 42
        }
      ]
    },
    {
      "cell_type": "code",
      "metadata": {
        "id": "E4icKr9wFTy0",
        "colab": {
          "base_uri": "https://localhost:8080/",
          "height": 34
        },
        "outputId": "4b943215-3b3d-4e1c-be40-e5a6f754cc79"
      },
      "source": [
        "caixa_de_positivos"
      ],
      "execution_count": null,
      "outputs": [
        {
          "output_type": "execute_result",
          "data": {
            "text/plain": [
              "array([0.98247623, 0.53917851, 0.94702819, 0.15318816, 0.2801585 ])"
            ]
          },
          "metadata": {
            "tags": []
          },
          "execution_count": 43
        }
      ]
    },
    {
      "cell_type": "code",
      "metadata": {
        "id": "Udth8sovFcy1",
        "colab": {
          "base_uri": "https://localhost:8080/",
          "height": 34
        },
        "outputId": "510215f8-b24d-49a1-deec-ab71cb328516"
      },
      "source": [
        "y_binary"
      ],
      "execution_count": null,
      "outputs": [
        {
          "output_type": "execute_result",
          "data": {
            "text/plain": [
              "array([1, 0, 1, 1, 1, 1, 0, 0, 0, 0])"
            ]
          },
          "metadata": {
            "tags": []
          },
          "execution_count": 44
        }
      ]
    },
    {
      "cell_type": "markdown",
      "metadata": {
        "id": "HKS888Q8F10z"
      },
      "source": [
        "#AUPRC\n",
        "\n",
        "-média ponderada da curva entre precisoin e recall\n",
        "\n",
        "-quanto maior melhor"
      ]
    },
    {
      "cell_type": "code",
      "metadata": {
        "id": "JX2U_y38Fzow",
        "colab": {
          "base_uri": "https://localhost:8080/",
          "height": 85
        },
        "outputId": "30c8cfdf-eab9-409d-e4af-d747f2420362"
      },
      "source": [
        "from sklearn.metrics import average_precision_score\n",
        "print(\"PREVISÃO = {}\\nY = {}\".format(p_binary, y_binary))\n",
        "average_precision_score(y_binary, p_binary)"
      ],
      "execution_count": null,
      "outputs": [
        {
          "output_type": "stream",
          "text": [
            "PREVISÃO = [0.98247623 0.52243872 0.53917851 0.94702819 0.15318816 0.2801585\n",
            " 0.62494318 0.30397067 0.83573299 0.29270279]\n",
            "Y = [1 0 1 1 1 1 0 0 0 0]\n"
          ],
          "name": "stdout"
        },
        {
          "output_type": "execute_result",
          "data": {
            "text/plain": [
              "0.7088888888888889"
            ]
          },
          "metadata": {
            "tags": []
          },
          "execution_count": 51
        }
      ]
    },
    {
      "cell_type": "markdown",
      "metadata": {
        "id": "FQSwsfEXHRhs"
      },
      "source": [
        "OUTRA COISA"
      ]
    },
    {
      "cell_type": "code",
      "metadata": {
        "id": "3WWgPzDwHSbi",
        "colab": {
          "base_uri": "https://localhost:8080/",
          "height": 187
        },
        "outputId": "ffa94b11-9ec8-41d5-aa1d-a6816dd8dc85"
      },
      "source": [
        "from sklearn.metrics import classification_report\n",
        "print(classification_report(y_multi, p_multi_argmax))\n"
      ],
      "execution_count": null,
      "outputs": [
        {
          "output_type": "stream",
          "text": [
            "              precision    recall  f1-score   support\n",
            "\n",
            "           0       0.50      0.25      0.33         4\n",
            "           1       0.50      1.00      0.67         3\n",
            "           2       0.00      0.00      0.00         3\n",
            "\n",
            "    accuracy                           0.40        10\n",
            "   macro avg       0.33      0.42      0.33        10\n",
            "weighted avg       0.35      0.40      0.33        10\n",
            "\n"
          ],
          "name": "stdout"
        }
      ]
    }
  ]
}